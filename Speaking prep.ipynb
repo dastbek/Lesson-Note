{
 "cells": [
  {
   "cell_type": "markdown",
   "id": "e9a09e66-31c7-4b44-a836-1bfaba5de471",
   "metadata": {},
   "source": [
    "# Topic 1\n",
    "Describe your neighborhood.\n",
    "You should say:\n",
    "\n",
    "- where you live\n",
    "- what the places are in your neighborhood\n",
    "- how places near your house affect you\n",
    "and describe how you can improve your neighborhood."
   ]
  },
  {
   "cell_type": "markdown",
   "id": "50de78ac-4866-45ab-a1c1-30e958efe30b",
   "metadata": {},
   "source": [
    "---\n",
    "- reside in a small nei d12\n",
    "- AREA outside city\n",
    "- outter part, free from urban disturbances (hopefully, in future)\n",
    "- But, because of that ==> it is quiet dull\n",
    "- no that fast, engaging energy when live city\n",
    "- super markets, store, coffee shop, maybe fast food (but that's it), just normal houses \n",
    "- but small ==> cozy, sense of community where everybody\n",
    "\n",
    "\n",
    "- living in that affect, positive and negative \n",
    "- not living in the city alienate me from the culture norm, (dress, talk in a formal manner)\n",
    "- had to learn from scratch. I was a fish out of water and didn't like it \n",
    "- But despite all that ==> amazing place to grow up in.\n",
    "- 1 thing thou\n",
    "- if money, improve education infrastructure. Rebuild the schools, buy some proper tables and chair, TV so that the kids living in my neighborhood has access the best education possible, like those in the city.\n",
    "---"
   ]
  },
  {
   "cell_type": "markdown",
   "id": "48955f4e-64b3-4935-a415-75e39585f78b",
   "metadata": {},
   "source": [
    "# topic 2\n",
    "Describe your dream house.\n",
    "You should say:\n",
    "- where you are living now\n",
    "- where you want to live\n",
    "- what kind of house is your dream house\n",
    "and explain why you think it is your dream house."
   ]
  },
  {
   "cell_type": "code",
   "execution_count": null,
   "id": "671fc08f-8406-41e6-8d06-678f51a0b700",
   "metadata": {},
   "outputs": [],
   "source": []
  }
 ],
 "metadata": {
  "kernelspec": {
   "display_name": "Python 3 (ipykernel)",
   "language": "python",
   "name": "python3"
  },
  "language_info": {
   "codemirror_mode": {
    "name": "ipython",
    "version": 3
   },
   "file_extension": ".py",
   "mimetype": "text/x-python",
   "name": "python",
   "nbconvert_exporter": "python",
   "pygments_lexer": "ipython3",
   "version": "3.10.4"
  }
 },
 "nbformat": 4,
 "nbformat_minor": 5
}
