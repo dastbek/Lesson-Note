mybigDick = {}
file_r = open("ThinkStats_code/eng2pirate.txt", "r") #open file to read
for line in file_r:
    current = line.split() #remove blank space, and create a list, whose elements are the words on that line 
    mybigDick[current[0]] = current[1]
mybigDick


# def translate(sentence):
#     res = ""
#     for word in sentence.split():
#         if word in mybigDick:
#             res += mybigDick[word]
#         else:
#             res += word
#         res += " "
#     return res





def translate(sentence):
    res = ""
    chopped_sentence = sentence.split() #this is for looping each word in a sentence
    for word in chopped_sentence:
        if word in mybigDick: #checking if dict has the key "word"
            res = res + mybigDick[word]
        else:
            res += word
        res += " "
    return res


sentence = input("type in...")
print(translate(sentence))


class dog():
    
    def __init__(self, w, h): #initialize
        self.weight = w
        self.height = h
    #methods
    def bark():
        print("woof")
        
        
dog_1 = dog(20, 15)

dog_1.weight
dog_1.height


class Paladin():
    def __init__(self, g, r, c, n):
        self.gender = g
        self.race = r
        self.customization = c
        self.name = n
    #methods
    def shield_block(self):
        print("damage taken reduced by ....%")

my_char = Paladin("female", "bunny girl", "b", "Dastbek")

my_char.shield_block()







colors = ["green", "red", "blue", "gray", "brown", "purple", "pink"]

def check_e(color_list):
    result = []
    flag = False
    for color in color_list:
        for letter in color:
            if letter == 'e': #trigger flag if one letter is an e
                flag = True
                
        #if after looping through the color, flag is still false, then no e
        if flag == False:
            result.append(color)
            
        #reset flag if flag is true
        flag = False
    return result
check_e(colors)



