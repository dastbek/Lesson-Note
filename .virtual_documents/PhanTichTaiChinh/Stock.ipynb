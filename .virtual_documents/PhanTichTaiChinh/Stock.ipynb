import pandas as pd
import cufflinks as cf
import plotly.graph_objects as go
import math
import seaborn as sns
from scipy import stats
from matplotlib.pyplot import figure
from matplotlib import pyplot as plt
import chart_studio.plotly as py
import plotly.express as px
import numpy as np
get_ipython().run_line_magic("matplotlib", " inline")

from plotly.offline import download_plotlyjs, init_notebook_mode, plot, iplot
init_notebook_mode(connected=True)
import itertools
cf.go_offline


pip install itertools


data = pd.read_excel("data (Autosaved).xlsx")


data


data = data.loc[::-1].reset_index(drop=True)


data.head(15)


data.corr()


sns.heatmap(data.corr(), annot=True, annot_kws={"size": 7},cmap="Blues")


test = pd.DataFrame(list(itertools.combinations(data.iloc[:,1:].columns,3)))
test
    


sns.set(rc={'figure.figsize':(11.7,8.27)})
sns.boxplot(data = data)


data['SCS'].plot()


sns.distplot(data['SCS'].dropna(),bins=100,color='purple')


data['SCS'].pct_change().plot()


pct_mean = []

for column in data.iloc[:,1:].columns:
    pct_mean.append(data[column].pct_change().dropna().mean())
pct_mean


df = pd.DataFrame(columns=data.iloc[:,1:].columns)


df_2 = pd.concat([pd.DataFrame(df.columns), pd.DataFrame(pct_mean)], axis=1)


df_2.columns = ["Stock", "Arithmetic Mean"]


df_2


data






