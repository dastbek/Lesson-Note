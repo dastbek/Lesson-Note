import pandas as pd
import seaborn as sns
import matplotlib.pyplot as plt



test = pd.read_clipboard()


test=test.astype({'year':'category'})


test = test.set_index("year")


plt.style.use("bmh")
g = test.plot(linewidth=2,marker="o",figsize=(15,10))

g


g.figure.savefig("current.png")


test2= pd.read_clipboard()


test2 =test2.set_index("year")



test2
test2=test2.astype({'year':'category'})


plt.style.use("bmh")
test2[test2["Cty"] == 'HP'].plot(linewidth=2,marker="o",figsize=(15,10))


curIn = pd.read_clipboard()
curIn


curIn = curIn.melt(id_vars=["Ratio"], var_name='Firm', value_name='Value')


curIn



g = sns.catplot(
    data=curIn, kind="bar",
    x="Ratio", y="Value", hue="Firm",
    palette="dark", alpha=.6, height=10
)



g.figure.savefig("industry_compare_current.png")


inv = pd.read_clipboard()


inv=inv.astype({'year':'category'})



inv = inv.set_index("year")


plt.style.use("bmh")
g = inv[["DSI"]].plot(kind='line', figsize=(15,10), color='firebrick',marker='o', linewidth=1.8)
g.set_ylim(113,116)
g2 = inv["Inventory turnover"].plot(secondary_y=True, color='darkgreen', marker='s', linewidth=1.8)
g.right_ax.set_ylim(3,3.3)

g2.set_ylabel("Inventory turnover")


# set legend
lines_1, labels_1 = g.get_legend_handles_labels()
lines_2, labels_2 = g2.get_legend_handles_labels()
lines = lines_1 + lines_2
labels = labels_1 + labels_2
g.legend(lines, labels, loc=0)


g.figure.savefig("Inventory2.png")


invIn = pd.read_clipboard()


invIn = invIn.melt(id_vars=["Ratio"], var_name='Firm', value_name='Value')


i = sns.catplot(
    data=invIn, kind="bar",
    x="Ratio", y="Value", hue="Firm",
    palette="cubehelix", alpha=.6, height=10
)


i.figure.savefig("DSI Industry.png")


interest=pd.read_clipboard()


interest=interest.astype({'year':'category'})
interest=interest.set_index("year")


interest


it = interest[["Interest Expense"]].plot(kind='line', figsize=(15,10), color='firebrick',marker='o', linewidth=1.8)

it2 = interest["Interest Coverage"].plot(secondary_y=True, color='darkgreen', marker='s', linewidth=1.8)

it2.set_ylim(7,17)



it.figure.savefig("Interest Expense.png")


leverage = pd.read_clipboard()


leverage=leverage.astype({'year':'category'})



leverage = leverage.melt(id_vars=['year'], value_name="$", var_name="type")


g = sns.catplot(
    data=leverage, kind="bar",
    x="year", y="$", hue="type",
    palette="dark", alpha=.6, height=10
)


g.figure.savefig("CapitalStruc.png")


leverageIn = pd.read_clipboard()


leverageIn = leverageIn.melt(id_vars=["Ratio"], var_name='Firm', value_name='Debt/Equity')


leverageIn


li = sns.catplot(
    data=leverageIn, kind="bar",x="Ratio",
    y="Debt/Equity", hue="Firm",
    palette="RdBu", alpha=1, height=10
)


li.figure.savefig("LeverageIndustry.png")


ret = pd.read_clipboard()


ret=ret.astype({'Year':'category'})
ret = ret.set_index("Year")


ret.plot(figsize=(15,10))


radar = pd.read_clipboard()


radar = radar.melt(id_vars=["Ratio"])


radar


import plotly.express as px
fig = px.line_polar(radar, r='value', theta='Ratio', line_close=True)
fig.show()



