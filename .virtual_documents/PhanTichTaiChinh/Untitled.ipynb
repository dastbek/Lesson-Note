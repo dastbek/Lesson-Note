import pandas as pd
import seaborn as sns
import matplotlib.pyplot as plt



test = pd.read_clipboard()


test=test.astype({'year':'category'})


test = test.set_index("year")


plt.style.use("bmh")
g = test.plot(linewidth=2,marker="o",figsize=(15,10))

g


g.figure.savefig("current.png")


test2= pd.read_clipboard()


test2.groupby("Cty")


g = test2.plot(linewidth=2,marker="o",figsize=(15,10))



