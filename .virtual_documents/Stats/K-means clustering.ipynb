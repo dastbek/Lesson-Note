import pandas as pd
import numpy as np
import seaborn as sns
import matplotlib.pyplot as plt

df = pd.read_csv("data/E-commerce.csv")


df.head(10)


df.info()


sns.pairplot(df.drop(columns=['ID'], axis=1), diag_kind='kde')


sns.jointplot(y=df['amount_spent'], x=df['amount_discount'])


c_df = df.loc[:,["amount_spent","n_visits"]]
sns.scatterplot(x=df['amount_spent'],y=df['n_visits'])


from sklearn.preprocessing import MinMaxScaler
from sklearn.cluster import KMeans

scaler = MinMaxScaler()
scaler.fit(c_df)
X = pd.DataFrame(scaler.transform(c_df))
X.columns = c_df.columns
X




intra_variance=[]
for i in range(1,11):
    km = KMeans(n_clusters=i,
               max_iter=300)
    km.fit(X)
    intra_variance.append(km.inertia_)
intra_variance=pd.Series(intra_variance)

font = {'family': 'serif',
        'color':  'darkred',
        'weight': 'normal',
        'size': 16,
        }

plt.ylabel('Sum of Squared Distances')
plt.xlabel('Clusters') 
plt.text(2,intra_variance[2]+5,"Elbow", ha='left',va = "bottom",fontdict=font)
intra_variance.plot(linestyle='--', marker='o', color='b', label='line with marker')


km = KMeans(n_clusters=2,
               max_iter=300)
km.fit(X)
c_df['label'] = km.labels_
plt.figure(figsize=(20,10))
sns.scatterplot(x=c_df['amount_spent'], y=c_df["n_visits"], hue=c_df['label'])



