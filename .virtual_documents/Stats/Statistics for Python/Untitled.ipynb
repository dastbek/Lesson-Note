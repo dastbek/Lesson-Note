import pandas as pd
import seaborn as sns
from scipy import stats
from matplotlib.pyplot import figure
from matplotlib import pyplot as plt

import warnings
warnings.filterwarnings('ignore')



state = pd.read_csv("data\state.csv")


mean = state['Population'].mean()
median = state['Population'].median()
trimmed = stats.trim_mean(state['Population'], 0.1)
print(f'mean = {mean}\nmedian = {median}\ntrimmed mean = {trimmed}')



sns.histplot(state['Population'], kde=True)


state['Murder.Rate'].quantile([0.05, 0.25, 0.5, 0.75, 0.95])


figure(figsize=(8, 6), dpi=80)
ax = (state['Population']/1_000_000).plot.box()


air = pd.read_csv("data/dfw_airline.csv")


figure(figsize=(8, 6), dpi=80)
air.transpose().plot.bar(legend=False)


airline = pd.read_csv("data/airline_stats.csv")


airline


plt.figure(figsize=(15,10))
sns.boxplot(x='airline', y='pct_carrier_delay', data=airline)


plt.figure(figsize=(15,10))
sns.violinplot(x='airline', y='pct_carrier_delay', data=airline)


loans_income = pd.read_csv("data/loans_income.csv")



sample_mean_05 = pd.DataFrame({
'income': [loans_income.x.sample(5).mean() for _ in range(1000)],
'type': 'Mean of 5',
})
sample_mean_20 = pd.DataFrame({
'income': [loans_income.x.sample(20).mean() for _ in range(1000)],
'type': 'Mean of 20',
})
results = pd.concat([sample_mean_05, sample_mean_20])


g = sns.FacetGrid(results, col='type', col_wrap=1, height=4, aspect=3)
g.map(plt.hist, 'income', range=[0, 200000], bins=40)



