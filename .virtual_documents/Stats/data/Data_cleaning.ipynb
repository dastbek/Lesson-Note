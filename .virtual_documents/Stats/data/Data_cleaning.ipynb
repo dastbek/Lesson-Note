import pandas as pd
import numpy as np


df = pd.read_csv("world/gini.csv")


df


for i in year_list:
    i = str(i)


df = df.loc[:, year_list]


df.melt(id_vars=["country"], 
        var_name="Year", 
        value_name="Gini")




