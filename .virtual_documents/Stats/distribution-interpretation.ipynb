import pandas as pd
import seaborn as sns
from scipy import stats
from matplotlib.pyplot import figure
from matplotlib import pyplot as plt

import warnings
warnings.filterwarnings('ignore')


df = pd.read_csv("https://raw.githubusercontent.com/owid/co2-data/master/owid-co2-data.csv")


df.info()


missing_pct = (df.isna().sum() / df.isna().count())
missing_cnt = df.isna().sum()
missing = pd.concat([ missing_cnt,missing_pct], axis=1, keys = [ "counts","% missing"])
missing.sort_values(by=["% missing"], ascending=False)



