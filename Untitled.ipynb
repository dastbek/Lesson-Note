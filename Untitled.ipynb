{
 "cells": [
  {
   "cell_type": "code",
   "execution_count": 19,
   "id": "7ee72516-759d-499a-ba7d-85e5499f2980",
   "metadata": {},
   "outputs": [
    {
     "data": {
      "text/plain": [
       "{'yes': 'aye',\n",
       " 'English': 'Pirate',\n",
       " 'sir': 'matey',\n",
       " 'hotel': 'fleabag',\n",
       " 'student': 'swabbie',\n",
       " 'boy': 'matey',\n",
       " 'madam': 'proud',\n",
       " 'professor': 'foul',\n",
       " 'restaurant': 'galley',\n",
       " 'your': 'yer',\n",
       " 'excuse': 'arr',\n",
       " 'students': 'swabbies',\n",
       " 'are': 'be',\n",
       " 'lawyer': 'foul',\n",
       " 'the': \"th'\",\n",
       " 'restroom': 'head',\n",
       " 'my': 'me',\n",
       " 'hello': 'avast',\n",
       " 'is': 'be',\n",
       " 'man': 'matey'}"
      ]
     },
     "execution_count": 19,
     "metadata": {},
     "output_type": "execute_result"
    }
   ],
   "source": [
    "mybigDick = {}\n",
    "file_r = open(\"ThinkStats_code/eng2pirate.txt\", \"r\") #open file to read\n",
    "for line in file_r:\n",
    "    current = line.split() #remove blank space, and create a list, whose elements are the words on that line \n",
    "    mybigDick[current[0]] = current[1]\n",
    "mybigDick"
   ]
  },
  {
   "cell_type": "code",
   "execution_count": 24,
   "id": "d3f82402-3e74-43ca-b09d-ceeb236e1778",
   "metadata": {},
   "outputs": [],
   "source": [
    "# def translate(sentence):\n",
    "#     res = \"\"\n",
    "#     for word in sentence.split():\n",
    "#         if word in mybigDick:\n",
    "#             res += mybigDick[word]\n",
    "#         else:\n",
    "#             res += word\n",
    "#         res += \" \"\n",
    "#     return res"
   ]
  },
  {
   "cell_type": "code",
   "execution_count": 25,
   "id": "d85cd013-46d7-4fa0-bf24-6bd2626b702a",
   "metadata": {},
   "outputs": [
    {
     "name": "stdin",
     "output_type": "stream",
     "text": [
      "Type something... this is something\n"
     ]
    },
    {
     "name": "stdout",
     "output_type": "stream",
     "text": [
      "this be something \n"
     ]
    }
   ],
   "source": []
  },
  {
   "cell_type": "code",
   "execution_count": 31,
   "id": "026b85a9-a50d-4a89-9cb4-37136eea9bd6",
   "metadata": {},
   "outputs": [],
   "source": [
    "def translate(sentence):\n",
    "    res = \"\"\n",
    "    chopped_sentence = sentence.split() #this is for looping each word in a sentence\n",
    "    for word in chopped_sentence:\n",
    "        if word in mybigDick: #checking if dict has the key \"word\"\n",
    "            res = res + mybigDick[word]\n",
    "        else:\n",
    "            res += word\n",
    "        res += \" \"\n",
    "    return res"
   ]
  },
  {
   "cell_type": "code",
   "execution_count": 35,
   "id": "70270317-156b-426d-96ac-a1547b39cac2",
   "metadata": {},
   "outputs": [
    {
     "name": "stdin",
     "output_type": "stream",
     "text": [
      "type in... he is a man\n"
     ]
    },
    {
     "name": "stdout",
     "output_type": "stream",
     "text": [
      "he be a matey \n"
     ]
    }
   ],
   "source": [
    "sentence = input(\"type in...\")\n",
    "print(translate(sentence))"
   ]
  },
  {
   "cell_type": "code",
   "execution_count": 9,
   "id": "3ee063d8-fbf7-4293-8457-0d80d646fe4d",
   "metadata": {},
   "outputs": [
    {
     "data": {
      "text/plain": [
       "15"
      ]
     },
     "execution_count": 9,
     "metadata": {},
     "output_type": "execute_result"
    }
   ],
   "source": [
    "class dog():\n",
    "    \n",
    "    def __init__(self, w, h): #initialize\n",
    "        self.weight = w\n",
    "        self.height = h\n",
    "    #methods\n",
    "    def bark():\n",
    "        print(\"woof\")\n",
    "        \n",
    "        \n",
    "dog_1 = dog(20, 15)\n",
    "\n",
    "dog_1.weight\n",
    "dog_1.height"
   ]
  },
  {
   "cell_type": "code",
   "execution_count": 19,
   "id": "dec34f99-5d1e-4da3-a65d-2c6f97771ef1",
   "metadata": {},
   "outputs": [
    {
     "name": "stdout",
     "output_type": "stream",
     "text": [
      "damage taken reduced by ....%\n"
     ]
    }
   ],
   "source": [
    "class Paladin():\n",
    "    def __init__(self, g, r, c, n):\n",
    "        self.gender = g\n",
    "        self.race = r\n",
    "        self.customization = c\n",
    "        self.name = n\n",
    "    #methods\n",
    "    def shield_block(self):\n",
    "        print(\"damage taken reduced by ....%\")\n",
    "\n",
    "my_char = Paladin(\"female\", \"bunny girl\", \"b\", \"Dastbek\")\n",
    "\n",
    "my_char.shield_block()\n",
    "\n",
    "\n",
    "\n",
    "\n"
   ]
  },
  {
   "cell_type": "code",
   "execution_count": 21,
   "id": "99824b42-eb96-4309-abb7-925ce1ea12d3",
   "metadata": {},
   "outputs": [
    {
     "data": {
      "text/plain": [
       "['gray', 'brown', 'pink']"
      ]
     },
     "execution_count": 21,
     "metadata": {},
     "output_type": "execute_result"
    }
   ],
   "source": [
    "colors = [\"green\", \"red\", \"blue\", \"gray\", \"brown\", \"purple\", \"pink\"]\n",
    "\n",
    "def check_e(color_list):\n",
    "    result = []\n",
    "    flag = False\n",
    "    for color in color_list:\n",
    "        for letter in color:\n",
    "            if letter == 'e': #trigger flag if one letter is an e\n",
    "                flag = True\n",
    "                \n",
    "        #if after looping through the color, flag is still false, then no e\n",
    "        if flag == False:\n",
    "            result.append(color)\n",
    "            \n",
    "        #reset flag if flag is true\n",
    "        flag = False\n",
    "    return result\n",
    "check_e(colors)"
   ]
  },
  {
   "cell_type": "code",
   "execution_count": null,
   "id": "03af4cec-3673-4c0d-862c-357d15e0a1cd",
   "metadata": {},
   "outputs": [],
   "source": []
  }
 ],
 "metadata": {
  "kernelspec": {
   "display_name": "Python 3 (ipykernel)",
   "language": "python",
   "name": "python3"
  },
  "language_info": {
   "codemirror_mode": {
    "name": "ipython",
    "version": 3
   },
   "file_extension": ".py",
   "mimetype": "text/x-python",
   "name": "python",
   "nbconvert_exporter": "python",
   "pygments_lexer": "ipython3",
   "version": "3.10.1"
  }
 },
 "nbformat": 4,
 "nbformat_minor": 5
}
