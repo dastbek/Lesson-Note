{
 "cells": [
  {
   "cell_type": "markdown",
   "id": "bc7001aa-1456-4cab-85dd-afed5d3f7465",
   "metadata": {},
   "source": [
    "# Theoretical models to determine public services\n",
    "- When deciding which projects to pay for, government have to take into accounts **cost** vs **benefits**\n",
    "- Also opportunity costs\n",
    "- We assume government will operate in a way that **maximize social welfare**\n",
    "==> Public choice theory\n",
    "\n",
    "\n",
    "### Public choice theory\n",
    "- Wiki: study of political behavior\n",
    "- The 3 theories we discuss below concerns with how the government may not act to maximize the well-being of its citizens.\n",
    "\n",
    "==> **Government failure**\n",
    "The inability or unwillingness of the government to act primarily in the interest of its citizens.\n",
    "\n",
    "\n",
    "### Bureaucracy\n",
    "organizations of civil servants in charge of carrying out the services of government.\n",
    "\n",
    "\n",
    "### Size-Maximizing Bureaucracy\n",
    "- Normal firm: Employee salary based on efficiency\n",
    "    - Efficiency = Profit gained from Cost, higher P/C <==> higher profits\n",
    "    \n",
    "- Bureaucracy: Employee salary based on the total **measurable output** of their bureaucracy.\n",
    "    - More work = more budget\n",
    "    - ==> Trade quality for quantity of works\n",
    "    - ==> services suffer efficiency\n",
    "\n",
    "==> Bureaucracy might be more interested in their own **preservation and growth** than in carrying out their assigned missions efficiently (self-interested goal)\n",
    "\n",
    "#### Mathematical explanation\n",
    "\n",
    "- Normal Firm: Marginal cost == Marginal Benefits\n",
    "- Bureaucracy: TOTAL COST  == TOTAL SOCIAL WELFARE\n",
    "    - 10 cost, but only gain 4 benefits\n",
    "    - More cost = more budget"
   ]
  },
  {
   "cell_type": "code",
   "execution_count": null,
   "id": "67c32170-995f-4b46-b52c-2d574cc7b41c",
   "metadata": {},
   "outputs": [],
   "source": []
  }
 ],
 "metadata": {
  "kernelspec": {
   "display_name": "Python 3 (ipykernel)",
   "language": "python",
   "name": "python3"
  },
  "language_info": {
   "codemirror_mode": {
    "name": "ipython",
    "version": 3
   },
   "file_extension": ".py",
   "mimetype": "text/x-python",
   "name": "python",
   "nbconvert_exporter": "python",
   "pygments_lexer": "ipython3",
   "version": "3.10.4"
  }
 },
 "nbformat": 4,
 "nbformat_minor": 5
}
