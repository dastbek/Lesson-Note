{
 "cells": [
  {
   "cell_type": "markdown",
   "id": "837e8e67-562b-4b95-918d-8ccf848ab739",
   "metadata": {},
   "source": [
    "# Public vs Private goods\n",
    "- Public goods = fixed amount\n",
    "- Total = summed vertically (Price)\n",
    "- Private provision of public goods:\n",
    "    - Free-rider problem\n",
    "    - Under provision\n",
    "    - Solving under provision:\n",
    "        - Some people care more + have more income ==> pay more\n",
    "        - altrurism\n",
    "        - warm global (named for high contribution)\n",
    "\n",
    "\n"
   ]
  }
 ],
 "metadata": {
  "kernelspec": {
   "display_name": "Python 3 (ipykernel)",
   "language": "python",
   "name": "python3"
  },
  "language_info": {
   "codemirror_mode": {
    "name": "ipython",
    "version": 3
   },
   "file_extension": ".py",
   "mimetype": "text/x-python",
   "name": "python",
   "nbconvert_exporter": "python",
   "pygments_lexer": "ipython3",
   "version": "3.10.4"
  }
 },
 "nbformat": 4,
 "nbformat_minor": 5
}
