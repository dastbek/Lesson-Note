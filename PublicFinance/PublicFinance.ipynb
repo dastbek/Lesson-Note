{
 "cells": [
  {
   "cell_type": "code",
   "execution_count": 1,
   "id": "ded1b6c0-1f8a-4422-8b20-e53f828192b6",
   "metadata": {},
   "outputs": [],
   "source": [
    "import numpy as np\n",
    "import pandas as pd"
   ]
  },
  {
   "cell_type": "markdown",
   "id": "6bba3a10-3049-47b6-a403-897860361ec7",
   "metadata": {},
   "source": [
    "### May 9\n",
    "### INTRO TO PUBLIC FINANCE\n",
    "\n",
    "4 Questions relating to public finance (Relating to government action regarding the market)\n",
    "- When to intervene (Market failure, redistribution concerns)\n",
    "    - **Market failure** relate to economy efficiency, which happens when\n",
    "        - Information asymmetry\n",
    "        - Makret Power (of certain individual)\n",
    "        - Public goods (free-rider)\n",
    "        - Extrenalities (weather)\n",
    "    - **Redistribution** rela\n",
    "- How to intervene\n",
    "    - Tax, financial support for certain goods\n",
    "    - Restrict or mandate sale/purchase of certain goods\n",
    "    - Public provisions\n",
    "    - Publicing financing of private provision\n",
    "- Effects of intervention\n",
    "    - **Direct**: Directly affect a market, regarding demand/supply..\n",
    "    - **Indirect**: Affect the economy through changing people's behaviour\n",
    "- Why intervene\n",
    "    - Market failure / Redistribution concern\n",
    "    - But also **political economy**\n",
    "---"
   ]
  },
  {
   "cell_type": "markdown",
   "id": "1ce5dd5f-a528-4440-924a-4b857496ccfb",
   "metadata": {},
   "source": [
    "### May 13\n",
    "### Theoretical Tools of public finance\n"
   ]
  }
 ],
 "metadata": {
  "kernelspec": {
   "display_name": "Python 3 (ipykernel)",
   "language": "python",
   "name": "python3"
  },
  "language_info": {
   "codemirror_mode": {
    "name": "ipython",
    "version": 3
   },
   "file_extension": ".py",
   "mimetype": "text/x-python",
   "name": "python",
   "nbconvert_exporter": "python",
   "pygments_lexer": "ipython3",
   "version": "3.10.4"
  }
 },
 "nbformat": 4,
 "nbformat_minor": 5
}
