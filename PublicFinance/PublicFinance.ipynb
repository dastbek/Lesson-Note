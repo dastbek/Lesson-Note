{
 "cells": [
  {
   "cell_type": "code",
   "execution_count": 1,
   "id": "ded1b6c0-1f8a-4422-8b20-e53f828192b6",
   "metadata": {},
   "outputs": [],
   "source": [
    "import numpy as np\n",
    "import pandas as pd"
   ]
  },
  {
   "cell_type": "markdown",
   "id": "6bba3a10-3049-47b6-a403-897860361ec7",
   "metadata": {},
   "source": [
    "### May 9\n",
    "### INTRO TO PUBLIC FINANCE\n",
    "\n",
    "4 Questions relating to public finance (Relating to government action regarding the market)\n",
    "- When to intervene (Market failure, redistribution concerns)\n",
    "    - **Market failure** relate to economy efficiency, which happens when\n",
    "        - Information asymmetry\n",
    "        - Makret Power (of certain individual)\n",
    "        - Public goods (free-rider)\n",
    "        - Extrenalities (weather)\n",
    "    - **Redistribution** reallocate resources from one party to another\n",
    "        - Opportunity cost of redistribution is market efficiency\n",
    "- How to intervene\n",
    "    - Tax, financial support for certain goods\n",
    "    - Restrict or mandate sale/purchase of certain goods\n",
    "    - Public provisions\n",
    "    - Publicing financing of private provision\n",
    "- Effects of intervention\n",
    "    - **Direct**: Directly affect a market, regarding demand/supply..\n",
    "    - **Indirect**: Affect the economy in term of  people's behaviour\n",
    "- Why intervene\n",
    "    - Market failure / Redistribution concern\n",
    "    - But also **political economy**\n",
    "---"
   ]
  },
  {
   "cell_type": "markdown",
   "id": "1ce5dd5f-a528-4440-924a-4b857496ccfb",
   "metadata": {},
   "source": [
    "### May 13\n",
    "### Theoretical Tools of public finance\n",
    "\n",
    "**Theoretical tools**: set of tools designed to understand the *mechanics* behind economic decision making\n",
    "**Empertical tools**..\n",
    "\n",
    "- How do individuals choose how much to consume?\n",
    "- How do companies choose how much to produce?\n",
    "- What is economic efficiency?\n",
    "\n",
    "#### Constrainted Utility Maximization\n",
    "Choosing how much of each available good or service to consume, taking into account a constraint on total spending (income), the prices of the goods and their preferences\n",
    "\n",
    "**==> Show how consumers decide to allocate income (everyone seeks to extract as much utility from their income as possible)**\n",
    "\n",
    "\n",
    "**Indifference curve** and **budget line** - what they want and what they can afford. Intersection of these 2 curves = optimal solutions for each person.\n",
    "\n",
    "- Indifferent Curve = combination of quantity 2 goods where the utilities provided is the same at each point on the curve, hence 'indifference'. Cobb's Utilities Function:\n",
    "    $${\\displaystyle U\\left(x,y\\right)=x^\\alpha y^{1-\\alpha}}$$\n",
    "    - Consumers always prefer higher curves\n",
    "    - Always *downward* sloping\n",
    "    - Marginal Utility\n",
    "    - ==> We come to the conclusion that each individual has a well-defined utilty functions: $U = f(x1,x2,x3...)$\n",
    "    \n",
    "\n",
    "- Marginal Utility:\n",
    "    - increment of utility when one additional good is consumed\n",
    "    - the principle of **diminishing marginal utility**, x(t2) gives less utilities than x(t1), x1 and x2 are the same kind of goods\n",
    "    - Marginal utility of x: $${\\displaystyle U_1\\left(x,y\\right)=\\alpha \\left(x/y\\right)^{\\alpha-1}}$$\n",
    "- (Budget line = combination of quantity of 2 goods that each person can buy)\n",
    "\n",
    "\n"
   ]
  },
  {
   "cell_type": "code",
   "execution_count": null,
   "id": "e649a4df-558d-463d-a77d-b37f50595966",
   "metadata": {},
   "outputs": [],
   "source": []
  }
 ],
 "metadata": {
  "kernelspec": {
   "display_name": "Python 3 (ipykernel)",
   "language": "python",
   "name": "python3"
  },
  "language_info": {
   "codemirror_mode": {
    "name": "ipython",
    "version": 3
   },
   "file_extension": ".py",
   "mimetype": "text/x-python",
   "name": "python",
   "nbconvert_exporter": "python",
   "pygments_lexer": "ipython3",
   "version": "3.10.4"
  }
 },
 "nbformat": 4,
 "nbformat_minor": 5
}
