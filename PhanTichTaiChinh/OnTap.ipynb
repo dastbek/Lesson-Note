{
 "cells": [
  {
   "cell_type": "markdown",
   "id": "76ead903-fc28-4692-8123-18185101937b",
   "metadata": {},
   "source": [
    "# Vốn lưu động\n",
    "- Working capital: nguồn lực để sẵn có để hỗ trợ cho hoạt động kinh doanh\n",
    "- High working capital:\n",
    "    - Not good\n",
    "    - Too much inventory, excess cash\n",
    "    - Using equity, long-term debt to fund short-term asset (high cost capital)\n",
    "- Working capital relates to the business cycle:\n",
    "- State:\n",
    "    - \\> 0: potential to invest in expansion and growth, but higher is not too good.\n",
    "    - = 0: "
   ]
  },
  {
   "cell_type": "markdown",
   "id": "7fd7393e-0faf-46b8-b001-296e03268c0c",
   "metadata": {},
   "source": [
    "# Tỷ số hoạt động\n",
    "- Kì thu tiền\n",
    "- Vòng quay kho\n",
    "- Vòng quay tài sản cố định\n",
    "- Biên lợi nhuận\n",
    "# Đòn bẩy và khả năng thanh toán\n",
    "- Tỉ lệ nợ/vốn\n",
    "- nợ ngắn hạn / tổng nợ\n",
    "- Thanh khoản chung / nhanh / tức thời\n",
    "# Tỷ số giá thị trường\n",
    "- EPS (net income - ưu đãi / cổ phần đang lưu hành)\n",
    "- P/E\n",
    "- Tỉ lệ chi trả cổ tức (Cổ tức 1 cổ phần thường / EPS)\n"
   ]
  }
 ],
 "metadata": {
  "kernelspec": {
   "display_name": "Python 3 (ipykernel)",
   "language": "python",
   "name": "python3"
  },
  "language_info": {
   "codemirror_mode": {
    "name": "ipython",
    "version": 3
   },
   "file_extension": ".py",
   "mimetype": "text/x-python",
   "name": "python",
   "nbconvert_exporter": "python",
   "pygments_lexer": "ipython3",
   "version": "3.10.4"
  }
 },
 "nbformat": 4,
 "nbformat_minor": 5
}
