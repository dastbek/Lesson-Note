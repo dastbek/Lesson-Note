{
 "cells": [
  {
   "cell_type": "code",
   "execution_count": 1,
   "id": "dabe2a48-d5b8-4f9e-91d7-d60f36bb520e",
   "metadata": {},
   "outputs": [],
   "source": [
    "import pandas as pd"
   ]
  },
  {
   "cell_type": "code",
   "execution_count": 6,
   "id": "73d1da6d-7a4c-4871-a396-59649987fac4",
   "metadata": {},
   "outputs": [
    {
     "data": {
      "text/plain": [
       "Year  0    Current\n",
       "2019  0      2.722\n",
       "2020  0      1.092\n",
       "2021  0      1.282\n",
       "dtype: object"
      ]
     },
     "execution_count": 6,
     "metadata": {},
     "output_type": "execute_result"
    }
   ],
   "source": [
    "test = pd.read_clipboard()\n",
    "test.unstack()\n",
    "test.drop(col={'0'},index=1)"
   ]
  },
  {
   "cell_type": "code",
   "execution_count": null,
   "id": "2fc63cfe-45b2-4f49-a098-22da2681984c",
   "metadata": {},
   "outputs": [],
   "source": []
  }
 ],
 "metadata": {
  "kernelspec": {
   "display_name": "Python 3 (ipykernel)",
   "language": "python",
   "name": "python3"
  },
  "language_info": {
   "codemirror_mode": {
    "name": "ipython",
    "version": 3
   },
   "file_extension": ".py",
   "mimetype": "text/x-python",
   "name": "python",
   "nbconvert_exporter": "python",
   "pygments_lexer": "ipython3",
   "version": "3.10.1"
  }
 },
 "nbformat": 4,
 "nbformat_minor": 5
}
