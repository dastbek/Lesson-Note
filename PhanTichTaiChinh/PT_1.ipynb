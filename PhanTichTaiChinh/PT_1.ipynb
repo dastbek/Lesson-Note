{
 "cells": [
  {
   "cell_type": "markdown",
   "id": "86495d56-02da-42e7-9688-c9148e563e37",
   "metadata": {},
   "source": [
    "#  LESSON CONTENT\n",
    "\n",
    "- Phan tich 4 bao cao tai chinh\n",
    "    - Balance sheet\n",
    "    - Income Statement\n",
    "    - Cashflow\n",
    "    - Thuyet minh\n",
    "- Financial Index \n",
    "    - **Read more**\n"
   ]
  },
  {
   "cell_type": "markdown",
   "id": "0603edad-fc27-4556-a76b-e30dc2824288",
   "metadata": {},
   "source": [
    "# INTRO\n",
    "- Base on past performence ==> analyse and forcast\n",
    "- Definition of fiancial analysis\n",
    "- FA steps\n",
    "    - **Read**\n",
    "- Who need financial information? **STAKEHOLDER**\n",
    "    - Internal SH\n",
    "        - Employees\n",
    "        - Managers\n",
    "        - Owners\n",
    "    - External SH (etc...)\n",
    "- What's the end goal of fiancial analysis ?\n",
    "    - Current State, RISK, POTENTIAL\n",
    "    - MAXIMIZE PROFIT ==> MAXIMIZE EPS ==> TO MAXIMIZE SHAREHOLDER VALUE\n",
    "## Structure of Fiancial Analysis process\n",
    " - Phan tich nganh + chien luoc\n",
    " \n",
    "### Phan tich nganh va chien luoc\n",
    "#### Industry Analysis\n",
    "- Manufactory, Services...\n",
    "- What's the potential of the industry?\n",
    "    - Co cau kinh te of a country, co cau nganh, co cau GDP\n",
    "    - Industry\n",
    "- External factors impacting the industry\n",
    "- If your industry is dying?\n",
    "    - Chuyen doi san pham (*)\n",
    "    - Ban cheo san pham (*)\n",
    "#### Phan tich chien luoc kinh doanh\n",
    "- Vi the cua doanh nghiep ==> Factors impacting your business\n",
    "- Analysis based on model (PEST, SWOT)\n",
    "-"
   ]
  },
  {
   "cell_type": "markdown",
   "id": "3fe4c2c3-f339-4594-a35c-8edd5e40ed11",
   "metadata": {},
   "source": [
    "# PEST\n"
   ]
  }
 ],
 "metadata": {
  "kernelspec": {
   "display_name": "Python 3 (ipykernel)",
   "language": "python",
   "name": "python3"
  },
  "language_info": {
   "codemirror_mode": {
    "name": "ipython",
    "version": 3
   },
   "file_extension": ".py",
   "mimetype": "text/x-python",
   "name": "python",
   "nbconvert_exporter": "python",
   "pygments_lexer": "ipython3",
   "version": "3.10.4"
  }
 },
 "nbformat": 4,
 "nbformat_minor": 5
}
