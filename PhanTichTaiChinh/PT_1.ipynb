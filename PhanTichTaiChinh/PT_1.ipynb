{
 "cells": [
  {
   "cell_type": "markdown",
   "id": "86495d56-02da-42e7-9688-c9148e563e37",
   "metadata": {},
   "source": [
    "#  LESSON CONTENT\n",
    "\n",
    "- Phan tich 4 bao cao tai chinh\n",
    "    - Balance sheet\n",
    "    - Income Statement\n",
    "    - Cashflow\n",
    "    - Thuyet minh\n",
    "- Financial Index \n",
    "    - **Read more**\n"
   ]
  },
  {
   "cell_type": "markdown",
   "id": "0603edad-fc27-4556-a76b-e30dc2824288",
   "metadata": {},
   "source": [
    "# INTRO\n",
    "- Base on past performence ==> analyse and forcast\n",
    "- Definition of fiancial analysis\n",
    "- FA steps\n",
    "    - **Read**\n",
    "- Who need financial information? **STAKEHOLDER**\n",
    "    - Internal SH\n",
    "        - Employees\n",
    "        - Managers\n",
    "        - Owners\n",
    "    - External SH (etc...)\n",
    "- What's the end goal of fiancial analysis ?\n",
    "    - Current State, RISK, POTENTIAL\n",
    "    - MAXIMIZE PROFIT ==> MAXIMIZE EPS ==> TO MAXIMIZE SHAREHOLDER VALUE\n",
    "## Structure of Fiancial Analysis process\n",
    " - Phan tich nganh + chien luoc\n",
    " \n",
    "### Phan tich nganh va chien luoc\n",
    "#### Industry Analysis\n",
    "- Manufactory, Services...\n",
    "- What's the potential of the industry?\n",
    "    - Co cau kinh te of a country, co cau nganh, co cau GDP\n",
    "    - Industry\n",
    "- External factors impacting the industry\n",
    "- If your industry is dying?\n",
    "    - Chuyen doi san pham (*)\n",
    "    - Ban cheo san pham (*)\n",
    "#### Phan tich chien luoc kinh doanh\n",
    "- Vi the cua doanh nghiep ==> Factors impacting your business\n",
    "- Analysis based on model (PEST, SWOT)\n",
    "-"
   ]
  },
  {
   "cell_type": "code",
   "execution_count": 2,
   "id": "1c812cf4-e115-4319-b6cd-3b5851a320f9",
   "metadata": {},
   "outputs": [],
   "source": [
    "import numpy as np\n",
    "def CohenEffectSize(group1, group2):\n",
    "    \"\"\"Computes Cohen's effect size for two groups.\n",
    "    \n",
    "    group1: Series or DataFrame\n",
    "    group2: Series or DataFrame\n",
    "    \n",
    "    returns: float if the arguments are Series;\n",
    "             Series if the arguments are DataFrames\n",
    "    \"\"\"\n",
    "    diff = group1.mean() - group2.mean()\n",
    "\n",
    "    var1 = group1.var()\n",
    "    var2 = group2.var()\n",
    "    n1, n2 = len(group1), len(group2)\n",
    "\n",
    "    pooled_var = (n1 * var1 + n2 * var2) / (n1 + n2)\n",
    "    d = diff / np.sqrt(pooled_var)\n",
    "    return d"
   ]
  },
  {
   "cell_type": "code",
   "execution_count": null,
   "id": "bd8746c9-e7d7-48c5-a01b-946db3b9e881",
   "metadata": {},
   "outputs": [],
   "source": [
    "CohenEffectSize"
   ]
  }
 ],
 "metadata": {
  "kernelspec": {
   "display_name": "Python 3 (ipykernel)",
   "language": "python",
   "name": "python3"
  },
  "language_info": {
   "codemirror_mode": {
    "name": "ipython",
    "version": 3
   },
   "file_extension": ".py",
   "mimetype": "text/x-python",
   "name": "python",
   "nbconvert_exporter": "python",
   "pygments_lexer": "ipython3",
   "version": "3.10.1"
  }
 },
 "nbformat": 4,
 "nbformat_minor": 5
}
