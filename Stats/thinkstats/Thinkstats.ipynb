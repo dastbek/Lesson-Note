{
 "cells": [
  {
   "cell_type": "markdown",
   "id": "41c5ae92-30ef-41c1-bc67-7a41a68750a3",
   "metadata": {},
   "source": [
    "#### Producing PMF\n",
    "- Use PMF to normalize data from histogram, to eliminate the unit magnitude\n",
    "- Visualizing PMF through histogram, divide by number of observations (or use pandas)\n",
    "- Further calculating changes in probability from 1 value to another (large increase in % from 2.0gpa to 2.5gpa)\n",
    "##### Biased PMF\n",
    "\n"
   ]
  }
 ],
 "metadata": {
  "kernelspec": {
   "display_name": "Python 3 (ipykernel)",
   "language": "python",
   "name": "python3"
  },
  "language_info": {
   "codemirror_mode": {
    "name": "ipython",
    "version": 3
   },
   "file_extension": ".py",
   "mimetype": "text/x-python",
   "name": "python",
   "nbconvert_exporter": "python",
   "pygments_lexer": "ipython3",
   "version": "3.10.4"
  }
 },
 "nbformat": 4,
 "nbformat_minor": 5
}
