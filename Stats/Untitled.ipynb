{
 "cells": [
  {
   "cell_type": "markdown",
   "id": "964929d7-fe7a-4efc-acd1-f1390edb88be",
   "metadata": {},
   "source": [
    "### Interpreting Distribution\n",
    "The following notebook is written as a personal hands-on practice for **interpreting** different distributions during the process of EDA. It is easy to implement *KDE* during analysis, but understanding the result requires not just technical knowledge but also contexual knowledge. \n",
    "(Datas and use cases will be collected from various sources)."
   ]
  },
  {
   "cell_type": "code",
   "execution_count": null,
   "id": "964fcfcc-b496-42f4-86f3-352a2118aaac",
   "metadata": {},
   "outputs": [],
   "source": []
  }
 ],
 "metadata": {
  "kernelspec": {
   "display_name": "Python 3 (ipykernel)",
   "language": "python",
   "name": "python3"
  },
  "language_info": {
   "codemirror_mode": {
    "name": "ipython",
    "version": 3
   },
   "file_extension": ".py",
   "mimetype": "text/x-python",
   "name": "python",
   "nbconvert_exporter": "python",
   "pygments_lexer": "ipython3",
   "version": "3.10.1"
  }
 },
 "nbformat": 4,
 "nbformat_minor": 5
}
