{
 "cells": [
  {
   "cell_type": "code",
   "execution_count": 19,
   "id": "7ee72516-759d-499a-ba7d-85e5499f2980",
   "metadata": {},
   "outputs": [
    {
     "data": {
      "text/plain": [
       "{'yes': 'aye',\n",
       " 'English': 'Pirate',\n",
       " 'sir': 'matey',\n",
       " 'hotel': 'fleabag',\n",
       " 'student': 'swabbie',\n",
       " 'boy': 'matey',\n",
       " 'madam': 'proud',\n",
       " 'professor': 'foul',\n",
       " 'restaurant': 'galley',\n",
       " 'your': 'yer',\n",
       " 'excuse': 'arr',\n",
       " 'students': 'swabbies',\n",
       " 'are': 'be',\n",
       " 'lawyer': 'foul',\n",
       " 'the': \"th'\",\n",
       " 'restroom': 'head',\n",
       " 'my': 'me',\n",
       " 'hello': 'avast',\n",
       " 'is': 'be',\n",
       " 'man': 'matey'}"
      ]
     },
     "execution_count": 19,
     "metadata": {},
     "output_type": "execute_result"
    }
   ],
   "source": [
    "mybigDick = {}\n",
    "file_r = open(\"ThinkStats_code/eng2pirate.txt\", \"r\") #open file to read\n",
    "for line in file_r:\n",
    "    current = line.split() #remove blank space, and create a list, whose elements are the words on that line \n",
    "    mybigDick[current[0]] = current[1]\n",
    "mybigDick"
   ]
  },
  {
   "cell_type": "code",
   "execution_count": 24,
   "id": "d3f82402-3e74-43ca-b09d-ceeb236e1778",
   "metadata": {},
   "outputs": [],
   "source": [
    "# def translate(sentence):\n",
    "#     res = \"\"\n",
    "#     for word in sentence.split():\n",
    "#         if word in mybigDick:\n",
    "#             res += mybigDick[word]\n",
    "#         else:\n",
    "#             res += word\n",
    "#         res += \" \"\n",
    "#     return res"
   ]
  },
  {
   "cell_type": "code",
   "execution_count": 25,
   "id": "d85cd013-46d7-4fa0-bf24-6bd2626b702a",
   "metadata": {},
   "outputs": [
    {
     "name": "stdin",
     "output_type": "stream",
     "text": [
      "Type something... this is something\n"
     ]
    },
    {
     "name": "stdout",
     "output_type": "stream",
     "text": [
      "this be something \n"
     ]
    }
   ],
   "source": []
  },
  {
   "cell_type": "code",
   "execution_count": 31,
   "id": "026b85a9-a50d-4a89-9cb4-37136eea9bd6",
   "metadata": {},
   "outputs": [],
   "source": [
    "def translate(sentence):\n",
    "    res = \"\"\n",
    "    chopped_sentence = sentence.split() #this is for looping each word in a sentence\n",
    "    for word in chopped_sentence:\n",
    "        if word in mybigDick: #checking if dict has the key \"word\"\n",
    "            res = res + mybigDick[word]\n",
    "        else:\n",
    "            res += word\n",
    "        res += \" \"\n",
    "    return res"
   ]
  },
  {
   "cell_type": "code",
   "execution_count": 35,
   "id": "70270317-156b-426d-96ac-a1547b39cac2",
   "metadata": {},
   "outputs": [
    {
     "name": "stdin",
     "output_type": "stream",
     "text": [
      "type in... he is a man\n"
     ]
    },
    {
     "name": "stdout",
     "output_type": "stream",
     "text": [
      "he be a matey \n"
     ]
    }
   ],
   "source": [
    "sentence = input(\"type in...\")\n",
    "print(translate(sentence))"
   ]
  },
  {
   "cell_type": "code",
   "execution_count": null,
   "id": "3ee063d8-fbf7-4293-8457-0d80d646fe4d",
   "metadata": {},
   "outputs": [],
   "source": []
  }
 ],
 "metadata": {
  "kernelspec": {
   "display_name": "Python 3 (ipykernel)",
   "language": "python",
   "name": "python3"
  },
  "language_info": {
   "codemirror_mode": {
    "name": "ipython",
    "version": 3
   },
   "file_extension": ".py",
   "mimetype": "text/x-python",
   "name": "python",
   "nbconvert_exporter": "python",
   "pygments_lexer": "ipython3",
   "version": "3.10.1"
  }
 },
 "nbformat": 4,
 "nbformat_minor": 5
}
