{
  "cells": [
    {
      "cell_type": "markdown",
      "metadata": {
        "id": "XtNBQeyf6CxD"
      },
      "source": [
        "# Chapter 3\n",
        "\n",
        "Examples and Exercises from Think Stats, 2nd Edition\n",
        "\n",
        "http://thinkstats2.com\n",
        "\n",
        "Copyright 2016 Allen B. Downey\n",
        "\n",
        "MIT License: https://opensource.org/licenses/MIT\n"
      ]
    },
    {
      "cell_type": "code",
      "execution_count": 1,
      "metadata": {
        "id": "yncP5JiY6CxG",
        "outputId": "19cf9e89-5857-4c1e-f4e8-436d9e724b76",
        "colab": {
          "base_uri": "https://localhost:8080/"
        }
      },
      "outputs": [
        {
          "output_type": "stream",
          "name": "stdout",
          "text": [
            "Downloaded thinkstats2.py\n",
            "Downloaded thinkplot.py\n",
            "Downloaded nsfg.py\n",
            "Downloaded first.py\n",
            "Downloaded 2002FemPreg.dct\n",
            "Downloaded 2002FemPreg.dat.gz\n"
          ]
        }
      ],
      "source": [
        "from os.path import basename, exists\n",
        "\n",
        "\n",
        "def download(url):\n",
        "    filename = basename(url)\n",
        "    if not exists(filename):\n",
        "        from urllib.request import urlretrieve\n",
        "\n",
        "        local, _ = urlretrieve(url, filename)\n",
        "        print(\"Downloaded \" + local)\n",
        "\n",
        "\n",
        "download(\"https://github.com/AllenDowney/ThinkStats2/raw/master/code/thinkstats2.py\")\n",
        "download(\"https://github.com/AllenDowney/ThinkStats2/raw/master/code/thinkplot.py\")\n",
        "download(\"https://github.com/AllenDowney/ThinkStats2/raw/master/code/nsfg.py\")\n",
        "download(\"https://github.com/AllenDowney/ThinkStats2/raw/master/code/first.py\")\n",
        "\n",
        "\n",
        "download(\"https://github.com/AllenDowney/ThinkStats2/raw/master/code/2002FemPreg.dct\")\n",
        "download(\n",
        "    \"https://github.com/AllenDowney/ThinkStats2/raw/master/code/2002FemPreg.dat.gz\"\n",
        ")"
      ]
    },
    {
      "cell_type": "code",
      "execution_count": 2,
      "metadata": {
        "id": "8ndPh1em6CxI"
      },
      "outputs": [],
      "source": [
        "import numpy as np"
      ]
    },
    {
      "cell_type": "markdown",
      "metadata": {
        "id": "WPRA-QCX6CxI"
      },
      "source": [
        "Again, I'll load the NSFG pregnancy file and select live births:"
      ]
    },
    {
      "cell_type": "code",
      "execution_count": 3,
      "metadata": {
        "id": "RqzJFA6w6CxI"
      },
      "outputs": [],
      "source": [
        "import nsfg\n",
        "import first\n",
        "import thinkstats2\n",
        "import thinkplot"
      ]
    },
    {
      "cell_type": "code",
      "execution_count": 4,
      "metadata": {
        "id": "Wy8Fu14L6CxJ"
      },
      "outputs": [],
      "source": [
        "preg = nsfg.ReadFemPreg()\n",
        "live = preg[preg.outcome == 1]"
      ]
    },
    {
      "cell_type": "markdown",
      "metadata": {
        "id": "KLB_Gsh86CxK"
      },
      "source": [
        "Here's the histogram of birth weights:"
      ]
    },
    {
      "cell_type": "code",
      "source": [
        "import seaborn as sns\n",
        "sns.histplot()"
      ],
      "metadata": {
        "id": "qV-nCW6T62iS"
      },
      "execution_count": null,
      "outputs": []
    },
    {
      "cell_type": "code",
      "execution_count": null,
      "metadata": {
        "id": "sYWLfGO96CxK"
      },
      "outputs": [],
      "source": [
        "hist = thinkstats2.Hist(live.birthwgt_lb, label=\"birthwgt_lb\")\n",
        "thinkplot.Hist(hist)\n",
        "thinkplot.Config(xlabel=\"Birth weight (pounds)\", ylabel=\"Count\")"
      ]
    },
    {
      "cell_type": "markdown",
      "metadata": {
        "id": "GH135ABA6CxL"
      },
      "source": [
        "To normalize the disrtibution, we could divide through by the total count:"
      ]
    },
    {
      "cell_type": "code",
      "execution_count": null,
      "metadata": {
        "id": "mCwZT3b46CxM"
      },
      "outputs": [],
      "source": [
        "n = hist.Total()\n",
        "pmf = hist.Copy()\n",
        "for x, freq in hist.Items():\n",
        "    pmf[x] = freq / n"
      ]
    },
    {
      "cell_type": "markdown",
      "metadata": {
        "id": "dM9MHIwG6CxM"
      },
      "source": [
        "The result is a Probability Mass Function (PMF)."
      ]
    },
    {
      "cell_type": "code",
      "execution_count": null,
      "metadata": {
        "id": "wThCnWki6CxM"
      },
      "outputs": [],
      "source": [
        "thinkplot.Hist(pmf)\n",
        "thinkplot.Config(xlabel=\"Birth weight (pounds)\", ylabel=\"PMF\")"
      ]
    },
    {
      "cell_type": "markdown",
      "metadata": {
        "id": "oFUVCLDJ6CxN"
      },
      "source": [
        "More directly, we can create a Pmf object."
      ]
    },
    {
      "cell_type": "code",
      "execution_count": null,
      "metadata": {
        "id": "iz2m21i56CxN"
      },
      "outputs": [],
      "source": [
        "pmf = thinkstats2.Pmf([1, 2, 2, 3, 5])\n",
        "pmf"
      ]
    },
    {
      "cell_type": "markdown",
      "metadata": {
        "id": "HYi1yLQR6CxN"
      },
      "source": [
        "`Pmf` provides `Prob`, which looks up a value and returns its probability:"
      ]
    },
    {
      "cell_type": "code",
      "execution_count": null,
      "metadata": {
        "id": "yFkKNGKy6CxO"
      },
      "outputs": [],
      "source": [
        "pmf.Prob(2)"
      ]
    },
    {
      "cell_type": "markdown",
      "metadata": {
        "id": "rBsW9KuT6CxO"
      },
      "source": [
        "The bracket operator does the same thing."
      ]
    },
    {
      "cell_type": "code",
      "execution_count": null,
      "metadata": {
        "id": "f347awZV6CxO"
      },
      "outputs": [],
      "source": [
        "pmf[2]"
      ]
    },
    {
      "cell_type": "markdown",
      "metadata": {
        "id": "r6aMWgDx6CxO"
      },
      "source": [
        "The `Incr` method adds to the probability associated with a given values."
      ]
    },
    {
      "cell_type": "code",
      "execution_count": null,
      "metadata": {
        "id": "udGpoqii6CxO"
      },
      "outputs": [],
      "source": [
        "pmf.Incr(2, 0.2)\n",
        "pmf[2]"
      ]
    },
    {
      "cell_type": "markdown",
      "metadata": {
        "id": "GVFbY8mg6CxP"
      },
      "source": [
        "The `Mult` method multiplies the probability associated with a value."
      ]
    },
    {
      "cell_type": "code",
      "execution_count": null,
      "metadata": {
        "id": "bmvSv6qJ6CxP"
      },
      "outputs": [],
      "source": [
        "pmf.Mult(2, 0.5)\n",
        "pmf[2]"
      ]
    },
    {
      "cell_type": "markdown",
      "metadata": {
        "id": "IMFmdNeG6CxP"
      },
      "source": [
        "`Total` returns the total probability (which is no longer 1, because we changed one of the probabilities)."
      ]
    },
    {
      "cell_type": "code",
      "execution_count": null,
      "metadata": {
        "id": "N67vtU_U6CxP"
      },
      "outputs": [],
      "source": [
        "pmf.Total()"
      ]
    },
    {
      "cell_type": "markdown",
      "metadata": {
        "id": "pZ4qhzxS6CxQ"
      },
      "source": [
        "`Normalize` divides through by the total probability, making it 1 again."
      ]
    },
    {
      "cell_type": "code",
      "execution_count": null,
      "metadata": {
        "id": "4DrS5RAK6CxR"
      },
      "outputs": [],
      "source": [
        "pmf.Normalize()\n",
        "pmf.Total()"
      ]
    },
    {
      "cell_type": "markdown",
      "metadata": {
        "id": "CGmQsX6M6CxR"
      },
      "source": [
        "Here's the PMF of pregnancy length for live births."
      ]
    },
    {
      "cell_type": "code",
      "execution_count": null,
      "metadata": {
        "id": "eeb3-yTN6CxR"
      },
      "outputs": [],
      "source": [
        "pmf = thinkstats2.Pmf(live.prglngth, label=\"prglngth\")"
      ]
    },
    {
      "cell_type": "markdown",
      "metadata": {
        "id": "_ujR9zf_6CxR"
      },
      "source": [
        "Here's what it looks like plotted with `Hist`, which makes a bar graph."
      ]
    },
    {
      "cell_type": "code",
      "execution_count": null,
      "metadata": {
        "id": "nizMHOx26CxR"
      },
      "outputs": [],
      "source": [
        "thinkplot.Hist(pmf)\n",
        "thinkplot.Config(xlabel=\"Pregnancy length (weeks)\", ylabel=\"Pmf\")"
      ]
    },
    {
      "cell_type": "markdown",
      "metadata": {
        "id": "zhh9DLoA6CxR"
      },
      "source": [
        "Here's what it looks like plotted with `Pmf`, which makes a step function."
      ]
    },
    {
      "cell_type": "code",
      "execution_count": null,
      "metadata": {
        "id": "x4pxSsK36CxR"
      },
      "outputs": [],
      "source": [
        "thinkplot.Pmf(pmf)\n",
        "thinkplot.Config(xlabel=\"Pregnancy length (weeks)\", ylabel=\"Pmf\")"
      ]
    },
    {
      "cell_type": "markdown",
      "metadata": {
        "id": "CzkohQZW6CxS"
      },
      "source": [
        "We can use `MakeFrames` to return DataFrames for all live births, first babies, and others."
      ]
    },
    {
      "cell_type": "code",
      "execution_count": null,
      "metadata": {
        "id": "JVIITZ4l6CxS"
      },
      "outputs": [],
      "source": [
        "live, firsts, others = first.MakeFrames()"
      ]
    },
    {
      "cell_type": "markdown",
      "metadata": {
        "id": "41yk-LFk6CxS"
      },
      "source": [
        "Here are the distributions of pregnancy length."
      ]
    },
    {
      "cell_type": "code",
      "execution_count": null,
      "metadata": {
        "id": "MGIDappm6CxS"
      },
      "outputs": [],
      "source": [
        "first_pmf = thinkstats2.Pmf(firsts.prglngth, label=\"firsts\")\n",
        "other_pmf = thinkstats2.Pmf(others.prglngth, label=\"others\")"
      ]
    },
    {
      "cell_type": "markdown",
      "metadata": {
        "id": "RhpK4u6G6CxS"
      },
      "source": [
        "And here's the code that replicates one of the figures in the chapter."
      ]
    },
    {
      "cell_type": "code",
      "execution_count": null,
      "metadata": {
        "id": "GJAYxpoa6CxS"
      },
      "outputs": [],
      "source": [
        "width = 0.45\n",
        "axis = [27, 46, 0, 0.6]\n",
        "thinkplot.PrePlot(2, cols=2)\n",
        "thinkplot.Hist(first_pmf, align=\"right\", width=width)\n",
        "thinkplot.Hist(other_pmf, align=\"left\", width=width)\n",
        "thinkplot.Config(xlabel=\"Pregnancy length(weeks)\", ylabel=\"PMF\", axis=axis)\n",
        "\n",
        "thinkplot.PrePlot(2)\n",
        "thinkplot.SubPlot(2)\n",
        "thinkplot.Pmfs([first_pmf, other_pmf])\n",
        "thinkplot.Config(xlabel=\"Pregnancy length(weeks)\", axis=axis)"
      ]
    },
    {
      "cell_type": "markdown",
      "metadata": {
        "id": "AD3jg3X76CxT"
      },
      "source": [
        "Here's the code that generates a plot of the difference in probability (in percentage points) between first babies and others, for each week of pregnancy (showing only pregnancies considered \"full term\"). "
      ]
    },
    {
      "cell_type": "code",
      "execution_count": null,
      "metadata": {
        "id": "o3ZPOd8G6CxT"
      },
      "outputs": [],
      "source": [
        "weeks = range(35, 46)\n",
        "diffs = []\n",
        "for week in weeks:\n",
        "    p1 = first_pmf.Prob(week)\n",
        "    p2 = other_pmf.Prob(week)\n",
        "    diff = 100 * (p1 - p2)\n",
        "    diffs.append(diff)\n",
        "\n",
        "thinkplot.Bar(weeks, diffs)\n",
        "thinkplot.Config(xlabel='Pregnancy length(weeks)', ylabel='Difference (percentage points)')\n"
      ]
    },
    {
      "cell_type": "markdown",
      "metadata": {
        "id": "pGQ0spB16CxT"
      },
      "source": [
        "### Biasing and unbiasing PMFs\n",
        "\n",
        "Here's the example in the book showing operations we can perform with `Pmf` objects.\n",
        "\n",
        "Suppose we have the following distribution of class sizes."
      ]
    },
    {
      "cell_type": "code",
      "execution_count": null,
      "metadata": {
        "id": "aNU8x7zD6CxT"
      },
      "outputs": [],
      "source": [
        "d = {7: 8, 12: 8, 17: 14, 22: 4, 27: 6, 32: 12, 37: 8, 42: 3, 47: 2}\n",
        "\n",
        "pmf = thinkstats2.Pmf(d, label=\"actual\")"
      ]
    },
    {
      "cell_type": "markdown",
      "metadata": {
        "id": "-7-SW_QN6CxT"
      },
      "source": [
        "This function computes the biased PMF we would get if we surveyed students and asked about the size of the classes they are in."
      ]
    },
    {
      "cell_type": "code",
      "execution_count": null,
      "metadata": {
        "id": "WECT2RzE6CxT"
      },
      "outputs": [],
      "source": [
        "def BiasPmf(pmf, label):\n",
        "    new_pmf = pmf.Copy(label=label)\n",
        "\n",
        "    for x, p in pmf.Items():\n",
        "        new_pmf.Mult(x, x)\n",
        "\n",
        "    new_pmf.Normalize()\n",
        "    return new_pmf"
      ]
    },
    {
      "cell_type": "markdown",
      "metadata": {
        "id": "8tptUVeA6CxU"
      },
      "source": [
        "The following graph shows the difference between the actual and observed distributions."
      ]
    },
    {
      "cell_type": "code",
      "execution_count": null,
      "metadata": {
        "id": "x7Ckv0O-6CxU"
      },
      "outputs": [],
      "source": [
        "biased_pmf = BiasPmf(pmf, label=\"observed\")\n",
        "thinkplot.PrePlot(2)\n",
        "thinkplot.Pmfs([pmf, biased_pmf])\n",
        "thinkplot.Config(xlabel=\"Class size\", ylabel=\"PMF\")"
      ]
    },
    {
      "cell_type": "markdown",
      "metadata": {
        "id": "sgkEV_O26CxU"
      },
      "source": [
        "The observed mean is substantially higher than the actual."
      ]
    },
    {
      "cell_type": "code",
      "execution_count": null,
      "metadata": {
        "id": "WB5MdQAH6CxU"
      },
      "outputs": [],
      "source": [
        "print(\"Actual mean\", pmf.Mean())\n",
        "print(\"Observed mean\", biased_pmf.Mean())"
      ]
    },
    {
      "cell_type": "markdown",
      "metadata": {
        "id": "7M7bPEFK6CxV"
      },
      "source": [
        "If we were only able to collect the biased sample, we could \"unbias\" it by applying the inverse operation."
      ]
    },
    {
      "cell_type": "code",
      "execution_count": null,
      "metadata": {
        "id": "6h9UO7RY6CxV"
      },
      "outputs": [],
      "source": [
        "def UnbiasPmf(pmf, label=None):\n",
        "    new_pmf = pmf.Copy(label=label)\n",
        "\n",
        "    for x, p in pmf.Items():\n",
        "        new_pmf[x] *= 1 / x\n",
        "\n",
        "    new_pmf.Normalize()\n",
        "    return new_pmf"
      ]
    },
    {
      "cell_type": "markdown",
      "metadata": {
        "id": "7UEQcYdb6CxV"
      },
      "source": [
        "We can unbias the biased PMF:"
      ]
    },
    {
      "cell_type": "code",
      "execution_count": null,
      "metadata": {
        "id": "-vo8GSxu6CxV"
      },
      "outputs": [],
      "source": [
        "unbiased = UnbiasPmf(biased_pmf, label=\"unbiased\")\n",
        "print(\"Unbiased mean\", unbiased.Mean())"
      ]
    },
    {
      "cell_type": "markdown",
      "metadata": {
        "id": "MkBI80pA6CxV"
      },
      "source": [
        "And plot the two distributions to confirm they are the same."
      ]
    },
    {
      "cell_type": "code",
      "execution_count": null,
      "metadata": {
        "id": "aacFNEJ06CxV"
      },
      "outputs": [],
      "source": [
        "thinkplot.PrePlot(2)\n",
        "thinkplot.Pmfs([pmf, unbiased])\n",
        "thinkplot.Config(xlabel=\"Class size\", ylabel=\"PMF\")"
      ]
    },
    {
      "cell_type": "markdown",
      "metadata": {
        "id": "f5CQm3ds6CxW"
      },
      "source": [
        "### Pandas indexing\n",
        "\n",
        "Here's an example of a small DataFrame."
      ]
    },
    {
      "cell_type": "code",
      "execution_count": null,
      "metadata": {
        "id": "TI-GxVan6CxW"
      },
      "outputs": [],
      "source": [
        "import numpy as np\n",
        "import pandas\n",
        "\n",
        "array = np.random.randn(4, 2)\n",
        "df = pandas.DataFrame(array)\n",
        "df"
      ]
    },
    {
      "cell_type": "markdown",
      "metadata": {
        "id": "rgaas0IR6CxW"
      },
      "source": [
        "We can specify column names when we create the DataFrame:"
      ]
    },
    {
      "cell_type": "code",
      "execution_count": null,
      "metadata": {
        "id": "Drl9YOqH6CxW"
      },
      "outputs": [],
      "source": [
        "columns = [\"A\", \"B\"]\n",
        "df = pandas.DataFrame(array, columns=columns)\n",
        "df"
      ]
    },
    {
      "cell_type": "markdown",
      "metadata": {
        "id": "zTgueCuD6CxW"
      },
      "source": [
        "We can also specify an index that contains labels for the rows."
      ]
    },
    {
      "cell_type": "code",
      "execution_count": null,
      "metadata": {
        "id": "8YhsQkP56CxW"
      },
      "outputs": [],
      "source": [
        "index = [\"a\", \"b\", \"c\", \"d\"]\n",
        "df = pandas.DataFrame(array, columns=columns, index=index)\n",
        "df"
      ]
    },
    {
      "cell_type": "markdown",
      "metadata": {
        "id": "Fc9dCGo96CxX"
      },
      "source": [
        "Normal indexing selects columns."
      ]
    },
    {
      "cell_type": "code",
      "execution_count": null,
      "metadata": {
        "id": "GVOCoAoL6CxX"
      },
      "outputs": [],
      "source": [
        "df[\"A\"]"
      ]
    },
    {
      "cell_type": "markdown",
      "metadata": {
        "id": "-9Bx02QF6CxY"
      },
      "source": [
        "We can use the `loc` attribute to select rows."
      ]
    },
    {
      "cell_type": "code",
      "execution_count": null,
      "metadata": {
        "id": "57j2ugiH6CxY"
      },
      "outputs": [],
      "source": [
        "df.loc[\"a\"]"
      ]
    },
    {
      "cell_type": "markdown",
      "metadata": {
        "id": "oU5qiqLk6CxY"
      },
      "source": [
        "If you don't want to use the row labels and prefer to access the rows using integer indices, you can use the `iloc` attribute:"
      ]
    },
    {
      "cell_type": "code",
      "execution_count": null,
      "metadata": {
        "id": "FkQd7cE66CxY"
      },
      "outputs": [],
      "source": [
        "df.iloc[0]"
      ]
    },
    {
      "cell_type": "markdown",
      "metadata": {
        "id": "rbn2yRCs6CxZ"
      },
      "source": [
        "`loc` can also take a list of labels."
      ]
    },
    {
      "cell_type": "code",
      "execution_count": null,
      "metadata": {
        "id": "0rx7NGRJ6CxZ"
      },
      "outputs": [],
      "source": [
        "indices = [\"a\", \"c\"]\n",
        "df.loc[indices]"
      ]
    },
    {
      "cell_type": "markdown",
      "metadata": {
        "id": "_7i7BGK96CxZ"
      },
      "source": [
        "If you provide a slice of labels, `DataFrame` uses it to select rows."
      ]
    },
    {
      "cell_type": "code",
      "execution_count": null,
      "metadata": {
        "id": "9avTdY8Q6CxZ"
      },
      "outputs": [],
      "source": [
        "df[\"a\":\"c\"]"
      ]
    },
    {
      "cell_type": "markdown",
      "metadata": {
        "id": "AFG1xyQU6CxZ"
      },
      "source": [
        "If you provide a slice of integers, `DataFrame` selects rows by integer index."
      ]
    },
    {
      "cell_type": "code",
      "execution_count": null,
      "metadata": {
        "id": "wbYIj7MB6CxZ"
      },
      "outputs": [],
      "source": [
        "df[0:2]"
      ]
    },
    {
      "cell_type": "markdown",
      "metadata": {
        "id": "6AxmZuvR6CxZ"
      },
      "source": [
        "But notice that one method includes the last elements of the slice and one does not.\n",
        "\n",
        "In general, I recommend giving labels to the rows and names to the columns, and using them consistently."
      ]
    },
    {
      "cell_type": "markdown",
      "metadata": {
        "collapsed": true,
        "id": "b-33h0o56CxZ"
      },
      "source": [
        "## Exercises"
      ]
    },
    {
      "cell_type": "markdown",
      "metadata": {
        "id": "DDP_7PTQ6Cxa"
      },
      "source": [
        "**Exercise:** In Chapter 3 we computed the mean of a sample by adding up\n",
        "the elements and dividing by n.  If you are given a PMF, you can\n",
        "still compute the mean, but the process is slightly different:\n",
        "%\n",
        "$$ \\xbar = \\sum_i p_i~x_i $$\n",
        "%\n",
        "where the $x_i$ are the unique values in the PMF and $p_i=PMF(x_i)$.\n",
        "Similarly, you can compute variance like this:\n",
        "%\n",
        "$$ S^2 = \\sum_i p_i~(x_i - \\xbar)^2 $$\n",
        "% \n",
        "Write functions called `PmfMean` and `PmfVar` that take a\n",
        "Pmf object and compute the mean and variance.  To test these methods,\n",
        "check that they are consistent with the methods `Mean` and `Var`\n",
        "provided by `Pmf`."
      ]
    },
    {
      "cell_type": "code",
      "execution_count": null,
      "metadata": {
        "id": "lVJCgjzC6Cxa"
      },
      "outputs": [],
      "source": [
        "def PmfMean(pmf):\n",
        "    \"\"\"Computes the mean of a PMF.\n",
        "    Returns:\n",
        "        float mean\n",
        "    \"\"\"\n",
        "    return sum(p * x for x, p in pmf.Items())"
      ]
    },
    {
      "cell_type": "code",
      "execution_count": null,
      "metadata": {
        "id": "iA0x5vtC6Cxa"
      },
      "outputs": [],
      "source": [
        "def PmfVar(pmf, mu=None):\n",
        "    \"\"\"Computes the variance of a PMF.\n",
        "    mu: the point around which the variance is computed;\n",
        "            if omitted, computes the mean\n",
        "    returns: float variance\n",
        "    \"\"\"\n",
        "    if mu is None:\n",
        "        mu = PmfMean(pmf)\n",
        "\n",
        "    return sum(p * (x - mu) ** 2 for x, p in pmf.Items())"
      ]
    },
    {
      "cell_type": "markdown",
      "metadata": {
        "id": "39laxBnx6Cxa"
      },
      "source": [
        "**Exercise:** Something like the class size paradox appears if you survey children and ask how many children are in their family. Families with many children are more likely to appear in your sample, and families with no children have no chance to be in the sample.\n",
        "\n",
        "Use the NSFG respondent variable `numkdhh` to construct the actual distribution for the number of children under 18 in the respondents' households.\n",
        "\n",
        "Now compute the biased distribution we would see if we surveyed the children and asked them how many children under 18 (including themselves) are in their household.\n",
        "\n",
        "Plot the actual and biased distributions, and compute their means."
      ]
    },
    {
      "cell_type": "code",
      "execution_count": null,
      "metadata": {
        "id": "_09CO-HI6Cxa"
      },
      "outputs": [],
      "source": [
        "download(\"https://github.com/AllenDowney/ThinkStats2/raw/master/code/2002FemResp.dct\")\n",
        "download(\"https://github.com/AllenDowney/ThinkStats2/raw/master/code/2002FemResp.dat.gz\")"
      ]
    },
    {
      "cell_type": "code",
      "execution_count": null,
      "metadata": {
        "id": "PqPkigXR6Cxa"
      },
      "outputs": [],
      "source": [
        "resp = nsfg.ReadFemResp()"
      ]
    },
    {
      "cell_type": "code",
      "execution_count": null,
      "metadata": {
        "id": "1amAs9Z-6Cxa"
      },
      "outputs": [],
      "source": [
        ""
      ]
    },
    {
      "cell_type": "code",
      "execution_count": null,
      "metadata": {
        "id": "dAEhHrQx6Cxb"
      },
      "outputs": [],
      "source": [
        ""
      ]
    },
    {
      "cell_type": "code",
      "execution_count": null,
      "metadata": {
        "id": "U8LF0dYX6Cxb"
      },
      "outputs": [],
      "source": [
        ""
      ]
    },
    {
      "cell_type": "code",
      "execution_count": null,
      "metadata": {
        "id": "eMhEgf-g6Cxb"
      },
      "outputs": [],
      "source": [
        ""
      ]
    },
    {
      "cell_type": "code",
      "execution_count": null,
      "metadata": {
        "id": "FRJ3j22p6Cxb"
      },
      "outputs": [],
      "source": [
        ""
      ]
    },
    {
      "cell_type": "code",
      "execution_count": null,
      "metadata": {
        "id": "yBCMKtMb6Cxb"
      },
      "outputs": [],
      "source": [
        ""
      ]
    },
    {
      "cell_type": "markdown",
      "metadata": {
        "id": "cIsdNE586Cxb"
      },
      "source": [
        "**Exercise:** I started this book with the question, \"Are first babies more likely to be late?\" To address it, I computed the difference in means between groups of babies, but I ignored the possibility that there might be a difference between first babies and others for the same woman.\n",
        "\n",
        "To address this version of the question, select respondents who have at least two live births and compute pairwise differences. Does this formulation of the question yield a different result?\n",
        "\n",
        "Hint: use `nsfg.MakePregMap`:"
      ]
    },
    {
      "cell_type": "code",
      "execution_count": null,
      "metadata": {
        "id": "GeGW7GMi6Cxb"
      },
      "outputs": [],
      "source": [
        "live, firsts, others = first.MakeFrames()"
      ]
    },
    {
      "cell_type": "code",
      "execution_count": null,
      "metadata": {
        "id": "RSGLoF3Y6Cxb"
      },
      "outputs": [],
      "source": [
        "preg_map = nsfg.MakePregMap(live)"
      ]
    },
    {
      "cell_type": "code",
      "execution_count": null,
      "metadata": {
        "id": "DfCQin-D6Cxb"
      },
      "outputs": [],
      "source": [
        ""
      ]
    },
    {
      "cell_type": "code",
      "execution_count": null,
      "metadata": {
        "id": "Acm1nNkN6Cxb"
      },
      "outputs": [],
      "source": [
        ""
      ]
    },
    {
      "cell_type": "code",
      "execution_count": null,
      "metadata": {
        "id": "KQKEYZKH6Cxc"
      },
      "outputs": [],
      "source": [
        ""
      ]
    },
    {
      "cell_type": "markdown",
      "metadata": {
        "id": "ugfO8Nzc6Cxc"
      },
      "source": [
        "**Exercise:** In most foot races, everyone starts at the same time. If you are a fast runner, you usually pass a lot of people at the beginning of the race, but after a few miles everyone around you is going at the same speed.\n",
        "When I ran a long-distance (209 miles) relay race for the first time, I noticed an odd phenomenon: when I overtook another runner, I was usually much faster, and when another runner overtook me, he was usually much faster.\n",
        "\n",
        "At first I thought that the distribution of speeds might be bimodal; that is, there were many slow runners and many fast runners, but few at my speed.\n",
        "\n",
        "Then I realized that I was the victim of a bias similar to the effect of class size. The race was unusual in two ways: it used a staggered start, so teams started at different times; also, many teams included runners at different levels of ability.\n",
        "\n",
        "As a result, runners were spread out along the course with little relationship between speed and location. When I joined the race, the runners near me were (pretty much) a random sample of the runners in the race.\n",
        "\n",
        "So where does the bias come from? During my time on the course, the chance of overtaking a runner, or being overtaken, is proportional to the difference in our speeds. I am more likely to catch a slow runner, and more likely to be caught by a fast runner. But runners at the same speed are unlikely to see each other.\n",
        "\n",
        "Write a function called `ObservedPmf` that takes a `Pmf` representing the actual distribution of runners’ speeds, and the speed of a running observer, and returns a new `Pmf` representing the distribution of runners’ speeds as seen by the observer.\n",
        "\n",
        "To test your function, you can use `relay.py`, which reads the results from the James Joyce Ramble 10K in Dedham MA and converts the pace of each runner to mph.\n",
        "\n",
        "Compute the distribution of speeds you would observe if you ran a relay race at 7 mph with this group of runners."
      ]
    },
    {
      "cell_type": "code",
      "execution_count": null,
      "metadata": {
        "id": "k_0OjTQl6Cxc"
      },
      "outputs": [],
      "source": [
        "download(\"https://github.com/AllenDowney/ThinkStats2/raw/master/code/relay.py\")\n",
        "download(\"https://github.com/AllenDowney/ThinkStats2/raw/master/code/Apr25_27thAn_set1.shtml\")"
      ]
    },
    {
      "cell_type": "code",
      "execution_count": null,
      "metadata": {
        "id": "rIT9QNaN6Cxc"
      },
      "outputs": [],
      "source": [
        "import relay\n",
        "\n",
        "results = relay.ReadResults()\n",
        "speeds = relay.GetSpeeds(results)\n",
        "speeds = relay.BinData(speeds, 3, 12, 100)"
      ]
    },
    {
      "cell_type": "code",
      "execution_count": null,
      "metadata": {
        "id": "Q7xBAdz16Cxc"
      },
      "outputs": [],
      "source": [
        "pmf = thinkstats2.Pmf(speeds, \"actual speeds\")\n",
        "thinkplot.Pmf(pmf)\n",
        "thinkplot.Config(xlabel=\"Speed (mph)\", ylabel=\"PMF\")"
      ]
    },
    {
      "cell_type": "code",
      "execution_count": null,
      "metadata": {
        "id": "wrXpxZ9c6Cxd"
      },
      "outputs": [],
      "source": [
        ""
      ]
    },
    {
      "cell_type": "code",
      "execution_count": null,
      "metadata": {
        "id": "jOFV0X9N6Cxd"
      },
      "outputs": [],
      "source": [
        ""
      ]
    }
  ],
  "metadata": {
    "kernelspec": {
      "display_name": "Python 3 (ipykernel)",
      "language": "python",
      "name": "python3"
    },
    "language_info": {
      "codemirror_mode": {
        "name": "ipython",
        "version": 3
      },
      "file_extension": ".py",
      "mimetype": "text/x-python",
      "name": "python",
      "nbconvert_exporter": "python",
      "pygments_lexer": "ipython3",
      "version": "3.7.11"
    },
    "colab": {
      "name": "chap03ex.ipynb",
      "provenance": []
    }
  },
  "nbformat": 4,
  "nbformat_minor": 0
}